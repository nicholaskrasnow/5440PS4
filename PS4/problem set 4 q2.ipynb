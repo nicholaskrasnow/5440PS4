{
 "cells": [
  {
   "cell_type": "code",
   "execution_count": 1,
   "id": "legislative-alexander",
   "metadata": {},
   "outputs": [],
   "source": [
    "import sympy\n",
    "from sympy.solvers import solve\n",
    "from sympy import Symbol"
   ]
  },
  {
   "cell_type": "markdown",
   "id": "former-synthesis",
   "metadata": {},
   "source": [
    "Solve system of equations for steady state receptor forms, including the recycling process"
   ]
  },
  {
   "cell_type": "code",
   "execution_count": 7,
   "id": "hawaiian-warrant",
   "metadata": {},
   "outputs": [],
   "source": [
    "Rs,RsStar,Ri,RiStar,kf,L,kr,ke,Vs,krec,keStar,kDeg = sympy.symbols('Rs,RsStar,Ri,RiStar,kf,L,kr,ke,Vs,krec,keStar,kDeg')\n",
    "eq1 = sympy.Eq(-kf*L*Rs + kr*RsStar - ke*Rs + Vs + krec*Ri,0)\n",
    "eq2 = sympy.Eq(kf*L*Rs - kr*RsStar - keStar*RsStar + krec*RiStar,0)\n",
    "eq3 = sympy.Eq(ke*Rs - kDeg*Ri - krec*Ri,0)\n",
    "eq4 = sympy.Eq(keStar*RsStar - kDeg*RiStar - krec*RiStar,0)\n",
    "dict = sympy.simplify(sympy.solve([eq1,eq2,eq3,eq4],(Rs,RsStar,Ri,RiStar)))"
   ]
  },
  {
   "cell_type": "code",
   "execution_count": 14,
   "id": "swedish-arnold",
   "metadata": {},
   "outputs": [
    {
     "data": {
      "text/latex": [
       "$\\displaystyle \\frac{L Vs kf \\left(kDeg^{2} + kDeg keStar + 2 kDeg krec + keStar krec + krec^{2}\\right)}{kDeg \\left(L kDeg keStar kf + L keStar kf krec + kDeg ke keStar + kDeg ke kr + ke kr krec\\right)}$"
      ],
      "text/plain": [
       "L*Vs*kf*(kDeg**2 + kDeg*keStar + 2*kDeg*krec + keStar*krec + krec**2)/(kDeg*(L*kDeg*keStar*kf + L*keStar*kf*krec + kDeg*ke*keStar + kDeg*ke*kr + ke*kr*krec))"
      ]
     },
     "execution_count": 14,
     "metadata": {},
     "output_type": "execute_result"
    }
   ],
   "source": [
    "totalActive = sympy.simplify(dict.get(RsStar) + dict.get(RiStar))\n",
    "totalActive"
   ]
  },
  {
   "cell_type": "code",
   "execution_count": 20,
   "id": "affected-deputy",
   "metadata": {},
   "outputs": [
    {
     "data": {
      "text/latex": [
       "$\\displaystyle \\frac{Vs \\left(kDeg + keStar + krec\\right)}{kDeg keStar}$"
      ],
      "text/plain": [
       "Vs*(kDeg + keStar + krec)/(kDeg*keStar)"
      ]
     },
     "execution_count": 20,
     "metadata": {},
     "output_type": "execute_result"
    }
   ],
   "source": [
    "maxActive = sympy.simplify(sympy.limit(totalActive,L,sympy.oo))\n",
    "maxActive"
   ]
  },
  {
   "cell_type": "markdown",
   "id": "amino-serial",
   "metadata": {},
   "source": [
    "This expression can be respresented as (Vs/keStar + Vs/kDeg + Vs*krec/kDeg*keStar)"
   ]
  },
  {
   "cell_type": "markdown",
   "id": "accompanied-national",
   "metadata": {},
   "source": [
    "Compare to solution without recycling"
   ]
  },
  {
   "cell_type": "code",
   "execution_count": 21,
   "id": "breeding-territory",
   "metadata": {},
   "outputs": [],
   "source": [
    "Rs,RsStar,Ri,RiStar,kf,L,kr,ke,Vs,krec,keStar,kDeg = sympy.symbols('Rs,RsStar,Ri,RiStar,kf,L,kr,ke,Vs,krec,keStar,kDeg')\n",
    "eq1 = sympy.Eq(-kf*L*Rs + kr*RsStar - ke*Rs + Vs,0)\n",
    "eq2 = sympy.Eq(kf*L*Rs - kr*RsStar - keStar*RsStar,0)\n",
    "eq3 = sympy.Eq(ke*Rs - kDeg*Ri,0)\n",
    "eq4 = sympy.Eq(keStar*RsStar - kDeg*RiStar,0)\n",
    "dict2 = sympy.simplify(sympy.solve([eq1,eq2,eq3,eq4],(Rs,RsStar,Ri,RiStar)))"
   ]
  },
  {
   "cell_type": "code",
   "execution_count": 23,
   "id": "acting-stamp",
   "metadata": {},
   "outputs": [
    {
     "data": {
      "text/latex": [
       "$\\displaystyle \\frac{L Vs kf \\left(kDeg + keStar\\right)}{kDeg \\left(L keStar kf + ke keStar + ke kr\\right)}$"
      ],
      "text/plain": [
       "L*Vs*kf*(kDeg + keStar)/(kDeg*(L*keStar*kf + ke*keStar + ke*kr))"
      ]
     },
     "execution_count": 23,
     "metadata": {},
     "output_type": "execute_result"
    }
   ],
   "source": [
    "totalActive2 = sympy.simplify(dict2.get(RsStar) + dict2.get(RiStar))\n",
    "totalActive2"
   ]
  },
  {
   "cell_type": "code",
   "execution_count": 24,
   "id": "atmospheric-shape",
   "metadata": {},
   "outputs": [
    {
     "data": {
      "text/latex": [
       "$\\displaystyle \\frac{Vs}{keStar} + \\frac{Vs}{kDeg}$"
      ],
      "text/plain": [
       "Vs/keStar + Vs/kDeg"
      ]
     },
     "execution_count": 24,
     "metadata": {},
     "output_type": "execute_result"
    }
   ],
   "source": [
    "maxActive2 = sympy.simplify(sympy.limit(totalActive2,L,sympy.oo))\n",
    "maxActive2"
   ]
  },
  {
   "cell_type": "markdown",
   "id": "bored-instruction",
   "metadata": {},
   "source": [
    "Comparison of recycling-included max active receptor to max active receptor without recycling:\n",
    "\n",
    "The recycling process adds the term Vs * krec/kDegKeStar to the max active receptor expression. This increases active receptor when the rate of recycling is high, which is explained by some ligand-bound receptor returning to the cell membrane to escape degradation. This effect can be undone when kDeg or kdStar are high, decreasing the effect of recycling. When recycling rate is low or kDeg and keStar are high, the max-active receptor reaches the limit of the recycling-free process."
   ]
  },
  {
   "cell_type": "markdown",
   "id": "guided-fluid",
   "metadata": {},
   "source": [
    "b) Explanation of steady state, rate limiting EGFR activation\n",
    "\n",
    "EGFR activation is at state state when ligand binding to the receptor is fast. Receptor activation can still be rate limiting if the activated receptor is slow to activate a second messenger within the cell. Fast ligand binding determines the fraction of activated receptor, which in turn can transduce the signal relatively slowly."
   ]
  },
  {
   "cell_type": "code",
   "execution_count": null,
   "id": "orange-monkey",
   "metadata": {},
   "outputs": [],
   "source": []
  }
 ],
 "metadata": {
  "kernelspec": {
   "display_name": "Python 3",
   "language": "python",
   "name": "python3"
  },
  "language_info": {
   "codemirror_mode": {
    "name": "ipython",
    "version": 3
   },
   "file_extension": ".py",
   "mimetype": "text/x-python",
   "name": "python",
   "nbconvert_exporter": "python",
   "pygments_lexer": "ipython3",
   "version": "3.8.5"
  }
 },
 "nbformat": 4,
 "nbformat_minor": 5
}
